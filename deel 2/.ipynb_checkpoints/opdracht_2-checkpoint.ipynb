{
 "cells": [
  {
   "cell_type": "markdown",
   "id": "599436d0-e9fe-4976-a987-ce5b8c7aeec4",
   "metadata": {},
   "source": [
    "***Opgave 2 – Temperatuur (30 pt)  \n",
    "De temperatuur per dag hangt af van verschillende factoren.\n",
    "Toets met α =0 , 05 of de gemiddelde temperatuur per dag afhangt van de\n",
    "windrichting, de hoeveelheid bewolking en/of het zicht.*** \n",
    "* Als je concludeert dat alle groepen gemiddeld genomen even goed\n",
    "scoren, geef dan een 95% betrouwbaarheidsinterval voor dit\n",
    "gemiddelde.  \n",
    "* Als je concludeert dat niet alle groepen gemiddeld genomen even\n",
    "goed scoren, geef dan aan welke groepen significant beter of juist\n",
    "slechter scoren dan andere groepen.  \n",
    "\n",
    "Houd er rekening mee dat sommige variabelen zó veel categorieën\n",
    "hebben dat er niet goed mee gerekend kan worden (omdat sommige\n",
    "groepen te klein worden) of dat er niets uit op te maken valt. Het kan dus\n",
    "nodig zijn om nieuwe variabelen aan te maken waarin (zinvolle)\n",
    "categorieën zijn samengevoegd.  "
   ]
  },
  {
   "cell_type": "markdown",
   "id": "bf9259bc-9a45-4c94-b367-9c019a943792",
   "metadata": {},
   "source": [
    "regressie\n",
    "validiteit\n",
    "anova"
   ]
  },
  {
   "cell_type": "code",
   "execution_count": 6,
   "id": "7014d840-c51b-4c1f-9b11-4ba5879ff574",
   "metadata": {
    "tags": []
   },
   "outputs": [
    {
     "ename": "FileNotFoundError",
     "evalue": "[Errno 2] No such file or directory: 'levene.py'",
     "output_type": "error",
     "traceback": [
      "\u001b[0;31m---------------------------------------------------------------------------\u001b[0m",
      "\u001b[0;31mFileNotFoundError\u001b[0m                         Traceback (most recent call last)",
      "Cell \u001b[0;32mIn[6], line 10\u001b[0m\n\u001b[1;32m      8\u001b[0m \u001b[38;5;28;01mimport\u001b[39;00m \u001b[38;5;21;01mstatsmodels\u001b[39;00m\u001b[38;5;21;01m.\u001b[39;00m\u001b[38;5;21;01mapi\u001b[39;00m \u001b[38;5;28;01mas\u001b[39;00m \u001b[38;5;21;01msm\u001b[39;00m\n\u001b[1;32m      9\u001b[0m \u001b[38;5;28;01mimport\u001b[39;00m \u001b[38;5;21;01mstatsmodels\u001b[39;00m\u001b[38;5;21;01m.\u001b[39;00m\u001b[38;5;21;01mformula\u001b[39;00m\u001b[38;5;21;01m.\u001b[39;00m\u001b[38;5;21;01mapi\u001b[39;00m \u001b[38;5;28;01mas\u001b[39;00m \u001b[38;5;21;01msf\u001b[39;00m\n\u001b[0;32m---> 10\u001b[0m \u001b[43mexecfile\u001b[49m\u001b[43m(\u001b[49m\u001b[38;5;124;43m'\u001b[39;49m\u001b[38;5;124;43mlevene.py\u001b[39;49m\u001b[38;5;124;43m'\u001b[39;49m\u001b[43m)\u001b[49m \n\u001b[1;32m     12\u001b[0m etmgeg \u001b[38;5;241m=\u001b[39m pd\u001b[38;5;241m.\u001b[39mread_csv(\u001b[38;5;124m\"\u001b[39m\u001b[38;5;124metmgeg2.csv\u001b[39m\u001b[38;5;124m\"\u001b[39m)\n\u001b[1;32m     13\u001b[0m etmgeg[\u001b[38;5;124m'\u001b[39m\u001b[38;5;124msalty\u001b[39m\u001b[38;5;124m'\u001b[39m] \u001b[38;5;241m=\u001b[39m np\u001b[38;5;241m.\u001b[39mwhere(df\u001b[38;5;241m.\u001b[39msodium\u001b[38;5;241m>\u001b[39m\u001b[38;5;241m400\u001b[39m, \n\u001b[1;32m     14\u001b[0m     \u001b[38;5;124m'\u001b[39m\u001b[38;5;124myes\u001b[39m\u001b[38;5;124m'\u001b[39m,\u001b[38;5;124m'\u001b[39m\u001b[38;5;124mno\u001b[39m\u001b[38;5;124m'\u001b[39m)\n",
      "File \u001b[0;32m/opt/jupyterhub/anaconda/lib/python3.10/site-packages/debugpy/_vendored/pydevd/_pydev_bundle/_pydev_execfile.py:10\u001b[0m, in \u001b[0;36mexecfile\u001b[0;34m(file, glob, loc)\u001b[0m\n\u001b[1;32m      7\u001b[0m     loc \u001b[38;5;241m=\u001b[39m glob\n\u001b[1;32m      9\u001b[0m \u001b[38;5;28;01mimport\u001b[39;00m \u001b[38;5;21;01mtokenize\u001b[39;00m\n\u001b[0;32m---> 10\u001b[0m \u001b[38;5;28;01mwith\u001b[39;00m \u001b[43mtokenize\u001b[49m\u001b[38;5;241;43m.\u001b[39;49m\u001b[43mopen\u001b[49m\u001b[43m(\u001b[49m\u001b[43mfile\u001b[49m\u001b[43m)\u001b[49m \u001b[38;5;28;01mas\u001b[39;00m stream:\n\u001b[1;32m     11\u001b[0m     contents \u001b[38;5;241m=\u001b[39m stream\u001b[38;5;241m.\u001b[39mread()\n\u001b[1;32m     13\u001b[0m \u001b[38;5;66;03m# execute the script (note: it's important to compile first to have the filename set in debug mode)\u001b[39;00m\n",
      "File \u001b[0;32m/opt/jupyterhub/anaconda/lib/python3.10/tokenize.py:394\u001b[0m, in \u001b[0;36mopen\u001b[0;34m(filename)\u001b[0m\n\u001b[1;32m    390\u001b[0m \u001b[38;5;28;01mdef\u001b[39;00m \u001b[38;5;21mopen\u001b[39m(filename):\n\u001b[1;32m    391\u001b[0m \u001b[38;5;250m    \u001b[39m\u001b[38;5;124;03m\"\"\"Open a file in read only mode using the encoding detected by\u001b[39;00m\n\u001b[1;32m    392\u001b[0m \u001b[38;5;124;03m    detect_encoding().\u001b[39;00m\n\u001b[1;32m    393\u001b[0m \u001b[38;5;124;03m    \"\"\"\u001b[39;00m\n\u001b[0;32m--> 394\u001b[0m     buffer \u001b[38;5;241m=\u001b[39m \u001b[43m_builtin_open\u001b[49m\u001b[43m(\u001b[49m\u001b[43mfilename\u001b[49m\u001b[43m,\u001b[49m\u001b[43m \u001b[49m\u001b[38;5;124;43m'\u001b[39;49m\u001b[38;5;124;43mrb\u001b[39;49m\u001b[38;5;124;43m'\u001b[39;49m\u001b[43m)\u001b[49m\n\u001b[1;32m    395\u001b[0m     \u001b[38;5;28;01mtry\u001b[39;00m:\n\u001b[1;32m    396\u001b[0m         encoding, lines \u001b[38;5;241m=\u001b[39m detect_encoding(buffer\u001b[38;5;241m.\u001b[39mreadline)\n",
      "\u001b[0;31mFileNotFoundError\u001b[0m: [Errno 2] No such file or directory: 'levene.py'"
     ]
    }
   ],
   "source": [
    "# inladen bibliotheken en dataset\n",
    "import scipy.stats as sp \n",
    "import pandas as pd\n",
    "import numpy as np\n",
    "import matplotlib.pyplot as plt\n",
    "import seaborn as sns\n",
    "import statsmodels as st\n",
    "import statsmodels.api as sm\n",
    "import statsmodels.formula.api as sf\n",
    "execfile('levene.py') \n",
    "\n",
    "etmgeg = pd.read_csv(\"etmgeg2.csv\")\n",
    "etmgeg['salty'] = np.where(df.sodium>400, \n",
    "    'yes','no')\n",
    "\n",
    "sns.boxplot(data=etmgeg, x='type', hue='salty', y='calories')\n",
    "plt.show()\n",
    "\n",
    "regmodel=sf.ols('calories ~ type*salty',data=etmgeg)\n",
    "regres=regmodel.fit()\n",
    "print(regres.summary())\n",
    "\n",
    "anovatab=sm.stats.anova_lm(regres,typ=1)\n",
    "print(anovatab)"
   ]
  },
  {
   "cell_type": "code",
   "execution_count": null,
   "id": "855d9755-5f7d-4a3c-9d90-a78a8431de83",
   "metadata": {},
   "outputs": [],
   "source": []
  }
 ],
 "metadata": {
  "kernelspec": {
   "display_name": "Python 3 (ipykernel)",
   "language": "python",
   "name": "python3"
  },
  "language_info": {
   "codemirror_mode": {
    "name": "ipython",
    "version": 3
   },
   "file_extension": ".py",
   "mimetype": "text/x-python",
   "name": "python",
   "nbconvert_exporter": "python",
   "pygments_lexer": "ipython3",
   "version": "3.10.12"
  }
 },
 "nbformat": 4,
 "nbformat_minor": 5
}
