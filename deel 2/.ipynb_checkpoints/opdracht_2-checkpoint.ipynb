{
 "cells": [
  {
   "cell_type": "markdown",
   "id": "599436d0-e9fe-4976-a987-ce5b8c7aeec4",
   "metadata": {},
   "source": [
    "Opgave 2 – Temperatuur (30 pt)  \n",
    "De temperatuur per dag hangt af van verschillende factoren.\n",
    "Toets met α =0 , 05 of de gemiddelde temperatuur per dag afhangt van de\n",
    "windrichting, de hoeveelheid bewolking en/of het zicht.  \n",
    "* Als je concludeert dat alle groepen gemiddeld genomen even goed\n",
    "scoren, geef dan een 95% betrouwbaarheidsinterval voor dit\n",
    "gemiddelde.  \n",
    "* Als je concludeert dat niet alle groepen gemiddeld genomen even\n",
    "goed scoren, geef dan aan welke groepen significant beter of juist\n",
    "slechter scoren dan andere groepen.  \n",
    "\n",
    "Houd er rekening mee dat sommige variabelen zó veel categorieën\n",
    "hebben dat er niet goed mee gerekend kan worden (omdat sommige\n",
    "groepen te klein worden) of dat er niets uit op te maken valt. Het kan dus\n",
    "nodig zijn om nieuwe variabelen aan te maken waarin (zinvolle)\n",
    "categorieën zijn samengevoegd.  "
   ]
  },
  {
   "cell_type": "markdown",
   "id": "bf9259bc-9a45-4c94-b367-9c019a943792",
   "metadata": {},
   "source": [
    "AVOVA?"
   ]
  },
  {
   "cell_type": "code",
   "execution_count": null,
   "id": "a09a7611-a1e2-4eea-9634-1e813c72adc2",
   "metadata": {},
   "outputs": [],
   "source": []
  }
 ],
 "metadata": {
  "kernelspec": {
   "display_name": "Python 3 (ipykernel)",
   "language": "python",
   "name": "python3"
  },
  "language_info": {
   "codemirror_mode": {
    "name": "ipython",
    "version": 3
   },
   "file_extension": ".py",
   "mimetype": "text/x-python",
   "name": "python",
   "nbconvert_exporter": "python",
   "pygments_lexer": "ipython3",
   "version": "3.10.12"
  }
 },
 "nbformat": 4,
 "nbformat_minor": 5
}
