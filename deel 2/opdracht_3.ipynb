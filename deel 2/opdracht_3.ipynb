{
 "cells": [
  {
   "cell_type": "markdown",
   "id": "a8400631-e88b-4c4b-80c9-861875f8883a",
   "metadata": {},
   "source": [
    "Opgave 3 – Verdamping (30 pt)  \n",
    "Vanaf 1957 wordt ook een variabele Verdamping bijgehouden. Uit de\n",
    "beschrijving van deze variabele volgt niet direct een duidelijk beeld waar\n",
    "deze variabele vandaan komt.  \n",
    " Bepaal een zo statistisch valide mogelijk model waarmee\n",
    "Verdamping uitgedrukt kan worden in termen van de andere\n",
    "variabelen in de dataset.  \n",
    " Onderbouw de validiteit van het model.  \n",
    " Onderbouw waarom dit het beste model is.  \n",
    "Houd er rekening mee dat er veel numerieke variabelen in de dataset\n",
    "zitten. Dat betekent bijvoorbeeld dat een heatmap onleesbaar kan worden,\n",
    "en dat een pairplot heel lang duurt om te berekenen (echt minuten).\n",
    "Let op dat veel variabelen onderling sterk gecorreleerd zijn.  "
   ]
  },
  {
   "cell_type": "code",
   "execution_count": null,
   "id": "2f596575-4b5b-4da2-9745-2e084ecc7d82",
   "metadata": {},
   "outputs": [],
   "source": []
  }
 ],
 "metadata": {
  "kernelspec": {
   "display_name": "Python 3 (ipykernel)",
   "language": "python",
   "name": "python3"
  },
  "language_info": {
   "codemirror_mode": {
    "name": "ipython",
    "version": 3
   },
   "file_extension": ".py",
   "mimetype": "text/x-python",
   "name": "python",
   "nbconvert_exporter": "python",
   "pygments_lexer": "ipython3",
   "version": "3.10.12"
  }
 },
 "nbformat": 4,
 "nbformat_minor": 5
}
