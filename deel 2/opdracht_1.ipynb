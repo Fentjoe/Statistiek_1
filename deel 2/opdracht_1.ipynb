{
 "cells": [
  {
   "cell_type": "markdown",
   "id": "898c74d2-cd9f-42a2-8e71-6bb34d2c1056",
   "metadata": {
    "tags": []
   },
   "source": [
    "Opgave 1 – Vorstinnen en vorst (10 pt)  \n",
    "Hieronder volgt een drietal geformuleerde vermoedens. Ga na, met behulp\n",
    "van de aangereikte dataset en de technieken die je bij dit vak aan bod\n",
    "gekomen zijn, of deze vermoedens gegrond zijn. Hanteer steeds een\n",
    "significantieniveau α =0 , 05. Geef steeds aan:  \n",
    " welke hypothesetoets je gebruikt, en waarom die het meest geschikt\n",
    "is;  \n",
    " de Python-code waarmee je de hypothesetoets uitvoert, en de\n",
    "output die daaruit komt;  \n",
    " welke conclusie je trekt op basis van de output van Python, waarbij\n",
    "je de conclusie ook weer terugvertaalt naar de context van het\n",
    "vermoeden.  \n",
    "Sinds 1949, na de troonsbestijging van Juliana, wordt Koninginnedag\n",
    "gevierd op 30 april. Nadat Willem-Alexander koning was geworden werd\n",
    "Koningsdag vanaf 2014 op 27 april gevierd. Hoewel dat dus maar drie\n",
    "dagen eerder was, ontdekte de weervrouw dat het op Koningsdag echt\n",
    "kouder is dan op Koninginnedag, meer dan 1 °C.  \n",
    "a) Klopt de bewering van de weervrouw statistisch gezien? Met andere\n",
    "woorden: was het op Koninginnedag significant warmer dan op\n",
    "Koningsdag?  \n",
    "Clichés hebben vaak een kern van waarheid. Zo wordt er wel beweerd dat\n",
    "een nieuw staatshoofd ook een andere wind laat waaien. Met onze data\n",
    "kunnen we vermoeden dat onderzoeken.  \n",
    "b) Waait de wind bij een ander staatshoofd ook echt uit een andere\n",
    "richting? Met andere woorden: zijn staatshoofd en windrichting\n",
    "onafhankelijke stochasten?  \n",
    "In april en augustus is er zelden vorst aan de grond. Er is wel elke dag een\n",
    "minimumtemperatuur en een maximumtemperatuur. Uiteraard is de\n",
    "maximumtemperatuur hoger dan de minimumtemperatuur. Maar wanneer\n",
    "treden die op?  \n",
    "c) Het vermoeden is dat de minimumtemperatuur eerder op de dag\n",
    "plaatsvindt dan de maximumtemperatuur. Klopt dit vermoeden?  "
   ]
  },
  {
   "cell_type": "code",
   "execution_count": null,
   "id": "0cec1dcf-3320-4591-85da-90eaed6030bb",
   "metadata": {},
   "outputs": [],
   "source": []
  }
 ],
 "metadata": {
  "kernelspec": {
   "display_name": "Python 3 (ipykernel)",
   "language": "python",
   "name": "python3"
  },
  "language_info": {
   "codemirror_mode": {
    "name": "ipython",
    "version": 3
   },
   "file_extension": ".py",
   "mimetype": "text/x-python",
   "name": "python",
   "nbconvert_exporter": "python",
   "pygments_lexer": "ipython3",
   "version": "3.10.12"
  }
 },
 "nbformat": 4,
 "nbformat_minor": 5
}
