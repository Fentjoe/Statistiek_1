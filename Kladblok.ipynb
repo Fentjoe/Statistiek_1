{
 "cells": [
  {
   "cell_type": "code",
   "execution_count": null,
   "id": "4ed7039b-d8fc-4352-84e3-c2a293fbf3c3",
   "metadata": {},
   "outputs": [],
   "source": [
    "y=studenten['gemiddelde_cijfer']\n",
    "X=studenten[['cijfer_studiehouding', 'uren_zelfstudie', ']]\n",
    "#print(X)\n",
    "\n",
    "model = sr.linear_model.OLS(y,X) \n",
    "regres = model.fit() \n",
    "\n",
    "print(model.endog_names,model.exog_names)\n",
    "print(regres.params)\n",
    "print('R^2=',regres.rsquared)\n",
    "print(regres.conf_int(0.05)) \n",
    "regres.t_test([0,0])"
   ]
  },
  {
   "cell_type": "code",
   "execution_count": 1,
   "id": "bbc3268a-e7fc-4150-9c2c-de342a1cf584",
   "metadata": {
    "tags": []
   },
   "outputs": [
    {
     "ename": "NameError",
     "evalue": "name 'smf' is not defined",
     "output_type": "error",
     "traceback": [
      "\u001b[0;31m---------------------------------------------------------------------------\u001b[0m",
      "\u001b[0;31mNameError\u001b[0m                                 Traceback (most recent call last)",
      "Cell \u001b[0;32mIn[1], line 6\u001b[0m\n\u001b[1;32m      1\u001b[0m \u001b[38;5;66;03m# Deze stap herhaal je eventueel als je na stap 4 of 5 aanleiding vindt om je model aan te passen\u001b[39;00m\n\u001b[1;32m      2\u001b[0m \u001b[38;5;66;03m# ________________\u001b[39;00m\n\u001b[1;32m      3\u001b[0m \u001b[38;5;66;03m# schattingen doen\u001b[39;00m\n\u001b[1;32m      4\u001b[0m \n\u001b[1;32m      5\u001b[0m \u001b[38;5;66;03m# Ik stel dus eerst een model op (dat wil ik hier met Ordinary Least Squares gaan schatten) ...\u001b[39;00m\n\u001b[0;32m----> 6\u001b[0m model \u001b[38;5;241m=\u001b[39m \u001b[43msmf\u001b[49m\u001b[38;5;241m.\u001b[39mols(\u001b[38;5;124m'\u001b[39m\u001b[38;5;124mWinst22 ~ Jaarhuur+Omzet22\u001b[39m\u001b[38;5;124m'\u001b[39m, data\u001b[38;5;241m=\u001b[39mdf)\n\u001b[1;32m      7\u001b[0m \u001b[38;5;66;03m# ... en dan ga ik het pas daadwerkelijk schatten. De resultaten stop ik in variabele 'regres' (van REGression RESults)\u001b[39;00m\n\u001b[1;32m      8\u001b[0m regres \u001b[38;5;241m=\u001b[39m model\u001b[38;5;241m.\u001b[39mfit()\n",
      "\u001b[0;31mNameError\u001b[0m: name 'smf' is not defined"
     ]
    }
   ],
   "source": [
    "# Deze stap herhaal je eventueel als je na stap 4 of 5 aanleiding vindt om je model aan te passen\n",
    "# ________________\n",
    "# schattingen doen\n",
    "\n",
    "# Ik stel dus eerst een model op (dat wil ik hier met Ordinary Least Squares gaan schatten) ...\n",
    "model = smf.ols('Winst22 ~ Jaarhuur+Omzet22', data=df)\n",
    "# ... en dan ga ik het pas daadwerkelijk schatten. De resultaten stop ik in variabele 'regres' (van REGression RESults)\n",
    "regres = model.fit()\n",
    "print(regres.summary())\n",
    "\n",
    "# Met regres ga ik hieronder van alles verder rekenen"
   ]
  },
  {
   "cell_type": "code",
   "execution_count": null,
   "id": "abd95996-bf03-4d76-b473-5e98102132bf",
   "metadata": {},
   "outputs": [],
   "source": [
    "print(model.predict(X)- studenten['gemiddelde_cijfer'])"
   ]
  },
  {
   "cell_type": "code",
   "execution_count": null,
   "id": "2802cfd7-75e4-4867-9144-2a19e24b0699",
   "metadata": {},
   "outputs": [],
   "source": [
    "# Define the predictor variables (X) and the target variable (y)\n",
    "X = studenten[['cijfer_studiehouding', 'niveau_VO', 'uren_zelfstudie']]\n",
    "y = studenten['gemiddelde_cijfer']\n",
    "\n",
    "# Add constant term to the predictor variables\n",
    "X = sm.add_constant(X)\n",
    "\n",
    "# Fit the linear regression model\n",
    "model = sm.OLS(y, X).fit()\n",
    "\n",
    "# Print model summary\n",
    "print(model.summary())\n",
    "\n",
    "# Get the coefficients and intercept\n",
    "coefficients = model.params\n",
    "intercept = model.params['const']"
   ]
  }
 ],
 "metadata": {
  "kernelspec": {
   "display_name": "Python 3 (ipykernel)",
   "language": "python",
   "name": "python3"
  },
  "language_info": {
   "codemirror_mode": {
    "name": "ipython",
    "version": 3
   },
   "file_extension": ".py",
   "mimetype": "text/x-python",
   "name": "python",
   "nbconvert_exporter": "python",
   "pygments_lexer": "ipython3",
   "version": "3.10.12"
  }
 },
 "nbformat": 4,
 "nbformat_minor": 5
}
