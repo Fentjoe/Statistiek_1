{
 "cells": [
  {
   "cell_type": "markdown",
   "id": "6a036978-62ab-4c2a-a37e-aefc50fdf40c",
   "metadata": {},
   "source": [
    "## Statistiek 2 – Practicumopdracht 1 \n",
    "### Fenne van Agthoven \n",
    "### Araksan Hassan \n",
    "studie: toegepaste wiskunde  \n",
    "docent: Emiel Kaper  \n",
    "datum van inleren: maandag 29 april om 23:59 uur  "
   ]
  },
  {
   "cell_type": "markdown",
   "id": "65190e18-10e6-484f-b384-ecb1c5deca9f",
   "metadata": {},
   "source": [
    "### Dit practicumopdracht geeft antwoordt op 2 opgaven, namelijk:"
   ]
  },
  {
   "cell_type": "markdown",
   "id": "831e0746-30a3-4d7f-9676-8d92de1e6e62",
   "metadata": {
    "tags": []
   },
   "source": [
    "Opgave 1 (2 + 4 + 4 = 10 punten)  \n",
    "Hieronder volgt een drietal geformuleerde vermoedens. Ga na, met behulp van de\n",
    "aangereikte dataset en de technieken die je bij dit vak aan bod gekomen zijn, of deze\n",
    "vermoedens gegrond zijn. Geef steeds aan:  \n",
    " welke hypothesetoets je gebruikt, en waarom die  \n",
    " de Python-code waarmee je de hypothesetoets uitvoert, en de output die\n",
    "daaruit komt, en  \n",
    " welke conclusie je trekt op basis van de output van Python, waarbij je de\n",
    "conclusie ook weer terugvertaalt naar de context van het vermoeden.  \n",
    "a. Studenten die op kamers wonen, zijn naast de studie meer bezig met andere\n",
    "dingen dan studenten die thuis wonen.  \n",
    "b. Voor de meeste studenten geldt dat ze een hoger cijfer voor Nederlands op\n",
    "hun cijferlijst hebben staan dan voor Engels.  \n",
    "c. Er zijn verhoudingsgewijs minder TP-studenten1 in hogere schoolniveaus te\n",
    "vinden dan in lagere schoolniveaus.  "
   ]
  },
  {
   "cell_type": "markdown",
   "id": "f909f8aa-51fa-4b12-8295-8f41a26f37dc",
   "metadata": {
    "tags": []
   },
   "source": [
    "Opgave 2 (12 + 2 + 6 = 20 punten)  \n",
    "De hogeschool is benieuwd welke factoren nu invloed hebben op de mate van\n",
    "succes van een eerstejaarsstudent in de opleidingen én of het daarbij ook uitmaakt\n",
    "welke opleiding iemand doet. Omdat de dataset alleen studenten bevat die een\n",
    "positief BSA hebben gehaald, wordt succes gemeten met behulp van het gemiddelde\n",
    "cijfer aan het eind van jaar 1.  \n",
    "a. Bepaal een zo statistisch valide mogelijk model waarmee het gemiddelde cijfer\n",
    "aan het eind van jaar 1 verklaard kan worden. Onderbouw in je uitwerking ook\n",
    "waarom het model statistisch valide is of, als je denkt dat een statistisch valide\n",
    "model niet mogelijk is, waarom het door jou gevonden model het dichtst bij\n",
    "een statistisch valide model in de buurt komt.  \n",
    "Laat de volledige werkwijze zien waarmee je tot het uiteindelijke model\n",
    "gekomen bent.  \n",
    "b. Vind je jouw model van vraag 2a goed genoeg om het gemiddelde eindcijfer in\n",
    "jaar 1 mee te kunnen verklaren? Leg uit!  \n",
    "c. Geef, op basis van jouw model van vraag 2a, antwoord op de volgende vraag\n",
    "van het docententeam: \"Welke eigenschappen dragen bij aan het succes van\n",
    "studenten op de opleiding, en zijn er wat dat betreft verschillen tussen de\n",
    "opleidingen Accountancy en Finance & Control?\"  "
   ]
  },
  {
   "cell_type": "code",
   "execution_count": 5,
   "id": "34d4cd3b-0fb3-4aae-bba1-241a48378543",
   "metadata": {
    "tags": []
   },
   "outputs": [
    {
     "data": {
      "text/html": [
       "<div>\n",
       "<style scoped>\n",
       "    .dataframe tbody tr th:only-of-type {\n",
       "        vertical-align: middle;\n",
       "    }\n",
       "\n",
       "    .dataframe tbody tr th {\n",
       "        vertical-align: top;\n",
       "    }\n",
       "\n",
       "    .dataframe thead th {\n",
       "        text-align: right;\n",
       "    }\n",
       "</style>\n",
       "<table border=\"1\" class=\"dataframe\">\n",
       "  <thead>\n",
       "    <tr style=\"text-align: right;\">\n",
       "      <th></th>\n",
       "      <th>studie</th>\n",
       "      <th>gemiddelde_cijfer</th>\n",
       "      <th>cijfer_studiehouding</th>\n",
       "      <th>uren_zelfstudie</th>\n",
       "      <th>uren_activiteiten</th>\n",
       "      <th>reisafstand</th>\n",
       "      <th>woonsituatie</th>\n",
       "      <th>eigen_studieruimte</th>\n",
       "      <th>situatie_ouders</th>\n",
       "      <th>niveau_VO</th>\n",
       "      <th>cijfer_NL</th>\n",
       "      <th>cijfer_EN</th>\n",
       "      <th>cijfer_WIS</th>\n",
       "      <th>type_WIS</th>\n",
       "    </tr>\n",
       "  </thead>\n",
       "  <tbody>\n",
       "    <tr>\n",
       "      <th>0</th>\n",
       "      <td>Accountancy</td>\n",
       "      <td>6.86</td>\n",
       "      <td>7</td>\n",
       "      <td>12</td>\n",
       "      <td>11</td>\n",
       "      <td>8.4</td>\n",
       "      <td>uitwonend</td>\n",
       "      <td>ja</td>\n",
       "      <td>samenwonend</td>\n",
       "      <td>vmbo</td>\n",
       "      <td>5</td>\n",
       "      <td>8</td>\n",
       "      <td>8</td>\n",
       "      <td>NaN</td>\n",
       "    </tr>\n",
       "    <tr>\n",
       "      <th>1</th>\n",
       "      <td>Finance &amp; Control</td>\n",
       "      <td>8.70</td>\n",
       "      <td>9</td>\n",
       "      <td>20</td>\n",
       "      <td>11</td>\n",
       "      <td>21.6</td>\n",
       "      <td>thuiswonend</td>\n",
       "      <td>ja</td>\n",
       "      <td>samenwonend</td>\n",
       "      <td>vmbo</td>\n",
       "      <td>6</td>\n",
       "      <td>6</td>\n",
       "      <td>6</td>\n",
       "      <td>NaN</td>\n",
       "    </tr>\n",
       "    <tr>\n",
       "      <th>2</th>\n",
       "      <td>Accountancy</td>\n",
       "      <td>10.00</td>\n",
       "      <td>10</td>\n",
       "      <td>19</td>\n",
       "      <td>16</td>\n",
       "      <td>16.1</td>\n",
       "      <td>thuiswonend</td>\n",
       "      <td>ja</td>\n",
       "      <td>gescheiden</td>\n",
       "      <td>havo</td>\n",
       "      <td>8</td>\n",
       "      <td>6</td>\n",
       "      <td>5</td>\n",
       "      <td>A</td>\n",
       "    </tr>\n",
       "    <tr>\n",
       "      <th>3</th>\n",
       "      <td>Accountancy</td>\n",
       "      <td>7.88</td>\n",
       "      <td>8</td>\n",
       "      <td>13</td>\n",
       "      <td>9</td>\n",
       "      <td>15.0</td>\n",
       "      <td>thuiswonend</td>\n",
       "      <td>ja</td>\n",
       "      <td>samenwonend</td>\n",
       "      <td>vmbo</td>\n",
       "      <td>5</td>\n",
       "      <td>7</td>\n",
       "      <td>8</td>\n",
       "      <td>NaN</td>\n",
       "    </tr>\n",
       "    <tr>\n",
       "      <th>4</th>\n",
       "      <td>Accountancy</td>\n",
       "      <td>6.13</td>\n",
       "      <td>7</td>\n",
       "      <td>13</td>\n",
       "      <td>14</td>\n",
       "      <td>12.8</td>\n",
       "      <td>thuiswonend</td>\n",
       "      <td>nee</td>\n",
       "      <td>samenwonend</td>\n",
       "      <td>vmbo</td>\n",
       "      <td>7</td>\n",
       "      <td>6</td>\n",
       "      <td>8</td>\n",
       "      <td>NaN</td>\n",
       "    </tr>\n",
       "    <tr>\n",
       "      <th>...</th>\n",
       "      <td>...</td>\n",
       "      <td>...</td>\n",
       "      <td>...</td>\n",
       "      <td>...</td>\n",
       "      <td>...</td>\n",
       "      <td>...</td>\n",
       "      <td>...</td>\n",
       "      <td>...</td>\n",
       "      <td>...</td>\n",
       "      <td>...</td>\n",
       "      <td>...</td>\n",
       "      <td>...</td>\n",
       "      <td>...</td>\n",
       "      <td>...</td>\n",
       "    </tr>\n",
       "    <tr>\n",
       "      <th>312</th>\n",
       "      <td>Accountancy</td>\n",
       "      <td>6.64</td>\n",
       "      <td>5</td>\n",
       "      <td>13</td>\n",
       "      <td>13</td>\n",
       "      <td>10.9</td>\n",
       "      <td>thuiswonend</td>\n",
       "      <td>ja</td>\n",
       "      <td>samenwonend</td>\n",
       "      <td>havo</td>\n",
       "      <td>5</td>\n",
       "      <td>7</td>\n",
       "      <td>6</td>\n",
       "      <td>A</td>\n",
       "    </tr>\n",
       "    <tr>\n",
       "      <th>313</th>\n",
       "      <td>Accountancy</td>\n",
       "      <td>8.51</td>\n",
       "      <td>8</td>\n",
       "      <td>16</td>\n",
       "      <td>8</td>\n",
       "      <td>13.1</td>\n",
       "      <td>thuiswonend</td>\n",
       "      <td>ja</td>\n",
       "      <td>samenwonend</td>\n",
       "      <td>havo</td>\n",
       "      <td>7</td>\n",
       "      <td>7</td>\n",
       "      <td>5</td>\n",
       "      <td>A</td>\n",
       "    </tr>\n",
       "    <tr>\n",
       "      <th>314</th>\n",
       "      <td>Finance &amp; Control</td>\n",
       "      <td>5.73</td>\n",
       "      <td>5</td>\n",
       "      <td>12</td>\n",
       "      <td>12</td>\n",
       "      <td>12.7</td>\n",
       "      <td>thuiswonend</td>\n",
       "      <td>ja</td>\n",
       "      <td>samenwonend</td>\n",
       "      <td>vmbo</td>\n",
       "      <td>6</td>\n",
       "      <td>6</td>\n",
       "      <td>5</td>\n",
       "      <td>NaN</td>\n",
       "    </tr>\n",
       "    <tr>\n",
       "      <th>315</th>\n",
       "      <td>Accountancy</td>\n",
       "      <td>6.88</td>\n",
       "      <td>8</td>\n",
       "      <td>6</td>\n",
       "      <td>16</td>\n",
       "      <td>14.2</td>\n",
       "      <td>thuiswonend</td>\n",
       "      <td>ja</td>\n",
       "      <td>samenwonend</td>\n",
       "      <td>vmbo</td>\n",
       "      <td>7</td>\n",
       "      <td>5</td>\n",
       "      <td>6</td>\n",
       "      <td>NaN</td>\n",
       "    </tr>\n",
       "    <tr>\n",
       "      <th>316</th>\n",
       "      <td>Finance &amp; Control</td>\n",
       "      <td>6.46</td>\n",
       "      <td>6</td>\n",
       "      <td>9</td>\n",
       "      <td>11</td>\n",
       "      <td>0.5</td>\n",
       "      <td>uitwonend</td>\n",
       "      <td>ja</td>\n",
       "      <td>samenwonend</td>\n",
       "      <td>havo</td>\n",
       "      <td>5</td>\n",
       "      <td>8</td>\n",
       "      <td>6</td>\n",
       "      <td>A</td>\n",
       "    </tr>\n",
       "  </tbody>\n",
       "</table>\n",
       "<p>317 rows × 14 columns</p>\n",
       "</div>"
      ],
      "text/plain": [
       "                studie  gemiddelde_cijfer  cijfer_studiehouding  \\\n",
       "0          Accountancy               6.86                     7   \n",
       "1    Finance & Control               8.70                     9   \n",
       "2          Accountancy              10.00                    10   \n",
       "3          Accountancy               7.88                     8   \n",
       "4          Accountancy               6.13                     7   \n",
       "..                 ...                ...                   ...   \n",
       "312        Accountancy               6.64                     5   \n",
       "313        Accountancy               8.51                     8   \n",
       "314  Finance & Control               5.73                     5   \n",
       "315        Accountancy               6.88                     8   \n",
       "316  Finance & Control               6.46                     6   \n",
       "\n",
       "     uren_zelfstudie  uren_activiteiten  reisafstand woonsituatie  \\\n",
       "0                 12                 11          8.4    uitwonend   \n",
       "1                 20                 11         21.6  thuiswonend   \n",
       "2                 19                 16         16.1  thuiswonend   \n",
       "3                 13                  9         15.0  thuiswonend   \n",
       "4                 13                 14         12.8  thuiswonend   \n",
       "..               ...                ...          ...          ...   \n",
       "312               13                 13         10.9  thuiswonend   \n",
       "313               16                  8         13.1  thuiswonend   \n",
       "314               12                 12         12.7  thuiswonend   \n",
       "315                6                 16         14.2  thuiswonend   \n",
       "316                9                 11          0.5    uitwonend   \n",
       "\n",
       "    eigen_studieruimte situatie_ouders niveau_VO  cijfer_NL  cijfer_EN  \\\n",
       "0                   ja     samenwonend      vmbo          5          8   \n",
       "1                   ja     samenwonend      vmbo          6          6   \n",
       "2                   ja      gescheiden      havo          8          6   \n",
       "3                   ja     samenwonend      vmbo          5          7   \n",
       "4                  nee     samenwonend      vmbo          7          6   \n",
       "..                 ...             ...       ...        ...        ...   \n",
       "312                 ja     samenwonend      havo          5          7   \n",
       "313                 ja     samenwonend      havo          7          7   \n",
       "314                 ja     samenwonend      vmbo          6          6   \n",
       "315                 ja     samenwonend      vmbo          7          5   \n",
       "316                 ja     samenwonend      havo          5          8   \n",
       "\n",
       "     cijfer_WIS type_WIS  \n",
       "0             8      NaN  \n",
       "1             6      NaN  \n",
       "2             5        A  \n",
       "3             8      NaN  \n",
       "4             8      NaN  \n",
       "..          ...      ...  \n",
       "312           6        A  \n",
       "313           5        A  \n",
       "314           5      NaN  \n",
       "315           6      NaN  \n",
       "316           6        A  \n",
       "\n",
       "[317 rows x 14 columns]"
      ]
     },
     "execution_count": 5,
     "metadata": {},
     "output_type": "execute_result"
    }
   ],
   "source": [
    "##dataset inladen\n",
    "import pandas as pd\n",
    "studenten=pd.read_csv('studenten.csv')\n",
    "studenten"
   ]
  },
  {
   "cell_type": "markdown",
   "id": "d2e240c2-2808-4a76-af16-35163d8a9059",
   "metadata": {},
   "source": [
    "### Opgave 1"
   ]
  },
  {
   "cell_type": "markdown",
   "id": "501badcb-1534-4c48-bc2b-10263d7037bb",
   "metadata": {},
   "source": [
    "A. Studenten die op kamers wonen, zijn naast de studie meer bezig met andere\n",
    "dingen dan studenten die thuis wonen.\n",
    "- welke hypothesetoets je gebruikt, en waarom die  \n",
    "- de Python-code waarmee je de hypothesetoets uitvoert, en de output die\n",
    "daaruit komt, en  \n",
    "- welke conclusie je trekt op basis van de output van Python, waarbij je de\n",
    "conclusie ook weer terugvertaalt naar de context van het vermoeden.  "
   ]
  },
  {
   "cell_type": "markdown",
   "id": "a6d07f33-e9ed-4397-bcca-3d26dc3b532f",
   "metadata": {},
   "source": [
    "- De hypothesetoets die wij gebruiken is de ongepaarde T-toets, omdat er een meting wordt gedaan onder twee aparte groepen waarbij ieder persoon één keer wordt gemeten. Daarnaast willen we vergelijken of er een verschil is tussen de gemiddelde uren activiteiten van de woonsituatie van studenten. "
   ]
  },
  {
   "cell_type": "code",
   "execution_count": 6,
   "id": "d28f73c1-dbdc-4d30-9cd3-73583b28babe",
   "metadata": {
    "tags": []
   },
   "outputs": [
    {
     "data": {
      "text/plain": [
       "<Axes: xlabel='woonsituatie', ylabel='uren_activiteiten'>"
      ]
     },
     "execution_count": 6,
     "metadata": {},
     "output_type": "execute_result"
    },
    {
     "data": {
      "image/png": "[encoded data removed]",
      "text/plain": [
       "<Figure size 640x480 with 1 Axes>"
      ]
     },
     "metadata": {},
     "output_type": "display_data"
    }
   ],
   "source": [
    "import scipy.stats as st         # inladen bibliotheken\n",
    "import matplotlib.pyplot as plt\n",
    "import seaborn as sns            # hiermee maken we de mooiste plots, geleerd uit brightspace\n",
    "studenten = pd.DataFrame(studenten)   # dataset als frame\n",
    "\n",
    "sns.boxplot(y=studenten.uren_activiteiten, x=studenten.woonsituatie) # plotten van de boxplot"
   ]
  },
  {
   "cell_type": "code",
   "execution_count": 7,
   "id": "1b4add93-5250-469c-90dc-fbfaa44deb22",
   "metadata": {
    "tags": []
   },
   "outputs": [
    {
     "data": {
      "text/plain": [
       "TtestResult(statistic=-0.7354462650536336, pvalue=0.46299910702409786, df=185.0)"
      ]
     },
     "execution_count": 7,
     "metadata": {},
     "output_type": "execute_result"
    }
   ],
   "source": [
    "# maak twee rijen\n",
    "thuiswonend = studenten.where(studenten.woonsituatie=='thuiswonend').dropna().uren_activiteiten\n",
    "uitwonend = studenten.where(studenten.woonsituatie=='uitwonend').dropna().uren_activiteiten\n",
    "\n",
    "# de ongepaarde (independent) t-toets, met ongelijke varianties (kijk maar naar de boxplots)\n",
    "st.ttest_ind(thuiswonend,uitwonend,equal_var=True)"
   ]
  },
  {
   "cell_type": "markdown",
   "id": "052274ed-785c-4997-b847-acf6a08a30ac",
   "metadata": {},
   "source": [
    "Conclusie: Op basis van de p-value die we hebben verkregen uit de ongepaarde t-toets, kunnen we concluderen dat er een significant verschil \n",
    "is tussen de woonsituatie van studenten aangaande de tijd die besteedt wordt aan andere actviteiten. "
   ]
  },
  {
   "cell_type": "markdown",
   "id": "339237aa-deba-4152-9b09-e698614f7609",
   "metadata": {},
   "source": [
    "B. Voor de meeste studenten geldt dat ze een hoger cijfer voor Nederlands op hun cijferlijst hebben staan dan voor Engels.\n",
    "\n",
    "    welke hypothesetoets je gebruikt, en waarom die\n",
    "    de Python-code waarmee je de hypothesetoets uitvoert, en de output die daaruit komt, en\n",
    "    welke conclusie je trekt op basis van de output van Python, waarbij je de conclusie ook weer terugvertaalt naar de context van het vermoeden.\n",
    "\n"
   ]
  },
  {
   "cell_type": "markdown",
   "id": "170ccc3e-7a49-4b67-8311-a8277379490a",
   "metadata": {
    "tags": []
   },
   "source": [
    "- De hypothesetoets die wij gebruiken is de gepaarde T-toets, omdat voor elke student wordt gekeken naar 2 cijfers uit hun cijferslijst. Hierbij willen we onderzoeken of het cijfer voor Nederlands hoger is dan het cijfer voor Engels. Hieruit volgt de nulhypothese: H0: p <= 0,5 en H1: p > 0,5."
   ]
  },
  {
   "cell_type": "code",
   "execution_count": 9,
   "id": "6a92cf93-4d06-4614-ae8c-ed43727b9a60",
   "metadata": {
    "tags": []
   },
   "outputs": [
    {
     "data": {
      "text/plain": [
       "<Axes: xlabel='cijfer_EN', ylabel='cijfer_NL'>"
      ]
     },
     "execution_count": 9,
     "metadata": {},
     "output_type": "execute_result"
    },
    {
     "data": {
      "image/png": "[encoded data removed]",
      "text/plain": [
       "<Figure size 640x480 with 1 Axes>"
      ]
     },
     "metadata": {},
     "output_type": "display_data"
    }
   ],
   "source": [
    "sns.scatterplot(y=studenten.cijfer_NL, x=studenten.cijfer_EN) "
   ]
  },
  {
   "cell_type": "markdown",
   "id": "4a69ab06-67af-48e1-83cf-fb3e1b5e9b7b",
   "metadata": {
    "tags": []
   },
   "source": []
  },
  {
   "cell_type": "code",
   "execution_count": null,
   "id": "62c8f877-e58c-4ce2-b9f2-47394c1c6e3b",
   "metadata": {},
   "outputs": [],
   "source": []
  }
 ],
 "metadata": {
  "kernelspec": {
   "display_name": "Python 3 (ipykernel)",
   "language": "python",
   "name": "python3"
  },
  "language_info": {
   "codemirror_mode": {
    "name": "ipython",
    "version": 3
   },
   "file_extension": ".py",
   "mimetype": "text/x-python",
   "name": "python",
   "nbconvert_exporter": "python",
   "pygments_lexer": "ipython3",
   "version": "3.10.12"
  }
 },
 "nbformat": 4,
 "nbformat_minor": 5
}
