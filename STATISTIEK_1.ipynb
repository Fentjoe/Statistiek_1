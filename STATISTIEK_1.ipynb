{
 "cells": [
  {
   "cell_type": "markdown",
   "id": "6a036978-62ab-4c2a-a37e-aefc50fdf40c",
   "metadata": {},
   "source": [
    "hoi ik ben fenne\n"
   ]
  },
  {
   "cell_type": "code",
   "execution_count": null,
   "id": "34d4cd3b-0fb3-4aae-bba1-241a48378543",
   "metadata": {},
   "outputs": [],
   "source": []
  }
 ],
 "metadata": {
  "kernelspec": {
   "display_name": "Python 3 (ipykernel)",
   "language": "python",
   "name": "python3"
  },
  "language_info": {
   "codemirror_mode": {
    "name": "ipython",
    "version": 3
   },
   "file_extension": ".py",
   "mimetype": "text/x-python",
   "name": "python",
   "nbconvert_exporter": "python",
   "pygments_lexer": "ipython3",
   "version": "3.10.12"
  }
 },
 "nbformat": 4,
 "nbformat_minor": 5
}
